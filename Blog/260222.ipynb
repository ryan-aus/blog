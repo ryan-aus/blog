{
 "cells": [
  {
   "cell_type": "markdown",
   "id": "8d4ab034-ca84-4410-a1e7-42b8b920b18b",
   "metadata": {},
   "source": [
    "# How to waste time and overcomplicate things\n",
    "__26/02/22__"
   ]
  },
  {
   "cell_type": "markdown",
   "id": "fe46378f-003c-4b05-a135-c9a9a9f1572d",
   "metadata": {},
   "source": [
    "```{admonition} A quick word\n",
    ":class: tip\n",
    "This post ended up being fairly popular on Hacker News and sparked conversations about project management and development in the IT industry. You can find the post [here](https://news.ycombinator.com/item?id=30480083).\n",
    "```"
   ]
  },
  {
   "cell_type": "markdown",
   "id": "4c4eba32-217a-49b5-9d68-5e62ed594b02",
   "metadata": {},
   "source": [
    "## The problem\n",
    "\n",
    "My homelab is connected to the internet with a 20mb/s down and 5mb/s up connection, just enough for a remote 720p stream at decent quality without completely saturating the link. The problem is that the [Infuse](https://firecore.com/infuse) app I use will not request my [Jellyfin](https://jellyfin.org/) server to transcode the video. So if I play a 4K video file on Infuse, my 5mb/s upload speed can't keep up."
   ]
  },
  {
   "cell_type": "markdown",
   "id": "7e7ef137-5a43-4115-86bb-f4504a5e6f0b",
   "metadata": {},
   "source": [
    "## The solution\n",
    "\n",
    "I found this application called [Tdarr](https://tdarr.io/). A system for transcoding large libraries of media files. Great!\n",
    "\n",
    "This is how I made it way more complicated than it should have been and wasted my time."
   ]
  },
  {
   "cell_type": "markdown",
   "id": "d1fa1925-7454-4f61-83cf-0ba5eddeba8f",
   "metadata": {},
   "source": [
    "## Step 1 - Make assumptions\n",
    "\n",
    "__Create a solution without understanding how it all works__\n",
    "\n",
    "While waiting for Tdarr to download and install I began thinking about how to manage the transcoded files. I _assumed_ that the transcoded media files would be placed into the same directory as the source file.\n",
    "\n",
    "So, I wrote a bash script to traverse my media directories looking for these new 720p files and then move them into a directory which would contain only 720p files.\n",
    "\n",
    "```{note}\n",
    "My media directory is structured like `media/shows/[Series]/[Season]/[Episode]`\n",
    "The 720p videos are structured `media/720pShows/[Series]/[Season]/[Episode]`\n",
    "```\n",
    "\n",
    "Writing this script included a method of detecting the current path of the 720p media file within my media directory and then replicating that in the 720p media directory. So directories would be created if they didn't exist and then the 720p file was moved.\n",
    "\n",
    "So I began setting up Tdarr and then realised that you can select the output of the converted file. This made all of my time and effort planning and then writing the bash script completely pointless.\n",
    "\n",
    "Reflecting upon this, it seems like it is pretty obvious Tdarr would let you choose the output directory. I can't tell you why I just assumed it wouldn't."
   ]
  },
  {
   "cell_type": "markdown",
   "id": "8036af47-207d-45af-a039-7a70e29319b0",
   "metadata": {},
   "source": [
    "## Step 2 - Continue to make assumptions\n",
    "\n",
    "__Continue creating a solution without understanding how it all works__\n",
    "\n",
    "Ok, my media files are beginning to be converted and then saved into a temp directory I created to hold them. From there I'll write a python script which reads the names of the files, parses them to get their series name and the season number. With the series name and the series number the script will create directories in the 720p directory so it would be structured like `720pShows/[Series]/[Season]/[Episode]` and then the files will be moved.\n",
    "\n",
    "I _assumed_ Tdarr would place the converted video file into the temp directory as I had set it to. Makes sense right? I copied some video files into the temp directory to test it - and it worked! I set up a systemd timer to run my script every minute so that as newly converted files are placed into the temp directory they are moved into their new home.\n",
    "\n",
    "I came back a short while later and checked the status of my systemd timer and all was well. I checked the 720p directory and all was not well there. It now contained directories named 'Futurama', 'Season 2', 'Season 3'. Season folders which belong inside of series folders were not where they are supposed to be.\n",
    "\n",
    "I _assumed_ there must be some kind of error in my script's parsing of the file title it uses to determine the directory structure. That wasn't the case. If I copied the video file which was in the wrong folder into the temp directory and then ran my script manually the video file ended up in the correct place!\n",
    "\n",
    "It was then that I realised that after converting a video file Tdarr will place that video file into the new directory with the same structure it came from. For example, a video which came from `shows/[Series]/[Season]/[video file]` will end up in `temp/[Series]/[Season]/[video file]`.\n",
    "\n",
    "My python script was pointless! If it creates the directories then all I need to do is move whatever is in the temp directory into the 720p directory."
   ]
  },
  {
   "cell_type": "markdown",
   "id": "20e6e489-1fec-40b9-9e5c-e06301fa71ac",
   "metadata": {},
   "source": [
    "## Step 3 - Just fix the mistakes, don't learn from them\n",
    "\n",
    "__After something has caused you multiple issues, don't stop and reconsider your approach__\n",
    "\n",
    "\n",
    "Now that I know Tdarr already takes care of the directory structure for me all I need to do is move the temp directory contents into the 720p directory. I'll set up an rsync move command on a systemd timer to do it every minute.\n",
    "\n",
    "But wait... if Tdarr lets you choose the output directory and then even puts the output into the correct directory structure, why do I even need this temp directory and the rsync move command? Why not just point the output of Tdarr to the 720p directory?\n",
    "\n",
    "It wasn't until this point that I realised just how badly I had biffed this whole process."
   ]
  },
  {
   "cell_type": "markdown",
   "id": "7c51f87a-fc3e-4edf-9cd0-9213090387c0",
   "metadata": {},
   "source": [
    "## Conclusion\n",
    "\n",
    "I had a relatively simple task. Convert a batch of 4K and 1080p videos into 720p. I managed to overcomplicate and waste my time because I made assumptions and then failed to recognise mistakes and then repeated it.\n",
    "\n",
    "In the future I plan on avoiding these mistakes by asking myself two questions:\n",
    "\n",
    "- Why am I doing this?\n",
    "\n",
    "and then more importantly,\n",
    "\n",
    "- What is the evidence that this actually needs to be done?\n",
    "\n",
    "I had a good reason to write those scripts because I thought I had a problem. If I had tried to find evidence that I actually had that problem and I needed those scripts (by just doing a test run) I quickly would have realised it was all unnecessary. \n",
    "\n",
    "On a positive note, I was able to practice my bash and python skills so it wasn't all for nothing."
   ]
  }
 ],
 "metadata": {
  "kernelspec": {
   "display_name": "Python 3 (ipykernel)",
   "language": "python",
   "name": "python3"
  },
  "language_info": {
   "codemirror_mode": {
    "name": "ipython",
    "version": 3
   },
   "file_extension": ".py",
   "mimetype": "text/x-python",
   "name": "python",
   "nbconvert_exporter": "python",
   "pygments_lexer": "ipython3",
   "version": "3.9.10"
  }
 },
 "nbformat": 4,
 "nbformat_minor": 5
}
