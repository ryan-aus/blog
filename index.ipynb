{
 "cells": [
  {
   "cell_type": "markdown",
   "id": "eb9bbf1c-491b-4d18-9328-cd98d25f8342",
   "metadata": {},
   "source": [
    "# Home\n",
    "\n",
    "## About me\n",
    "\n",
    "I'm just a guy who loves solving puzzles and searching for patterns which led me to studying and soon to be working in the field of cyber security analysis. I'm always looking for more data to help uncover trends and gain knowledge about my environment so that I can help protect it.\n",
    "\n",
    "I'm also an avid amateur sysadmin with my own homelab where I self host a number of services used by friends and family.\n",
    "\n",
    "If you've got a role you think I may be good for get in touch.\n",
    "\n",
    "## Professional and academic accomplishments\n",
    "\n",
    "- High distinction grade average\n",
    "- Selected for 2022 Australian Defence Force Cyber Gap Program\n",
    "- Edith Cowan University peer mentor\n",
    "\n",
    "## Contact\n",
    "\n",
    "You can get in contact by emailing me at hello@ryanwarnock.me"
   ]
  }
 ],
 "metadata": {
  "kernelspec": {
   "display_name": "Python 3 (ipykernel)",
   "language": "python",
   "name": "python3"
  },
  "language_info": {
   "codemirror_mode": {
    "name": "ipython",
    "version": 3
   },
   "file_extension": ".py",
   "mimetype": "text/x-python",
   "name": "python",
   "nbconvert_exporter": "python",
   "pygments_lexer": "ipython3",
   "version": "3.9.9"
  }
 },
 "nbformat": 4,
 "nbformat_minor": 5
}
