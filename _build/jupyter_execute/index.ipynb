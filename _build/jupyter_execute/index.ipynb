{
 "cells": [
  {
   "cell_type": "markdown",
   "id": "eb9bbf1c-491b-4d18-9328-cd98d25f8342",
   "metadata": {},
   "source": [
    "# Home\n",
    "\n",
    "## About me\n",
    "\n",
    "I enjoy solving puzzles, uncovering patterns and working with IT systems. This has led me to studying, and soon to be working in the field of cyber security analysis. I'm always looking for more data to help uncover trends and gain knowledge about my environment so that I can help protect it.\n",
    "\n",
    "I'm also an avid amateur sysadmin with my own homelab where I self host a number of services used by friends and family.\n",
    "\n",
    "While you're here, stop and have a look at some of my [blog](Blog/Blog) posts.\n",
    "\n",
    "If you've got a role you think I may be good for, please get in touch (see contact below).\n",
    "\n",
    "## Professional and academic accomplishments\n",
    "\n",
    "![ecu.png](images/ecu.png)![cybergap.jpg](images/cybergap.jpg)![rotary.png](images/rotary.png)\n",
    "\n",
    "- High distinction grade average at [Edith Cowan University](https://www.ecu.edu.au/) (ECU)\n",
    "- Selected for 2022 Australian Defence Force (ADF) [Cyber Gap Program](https://www.digitalprofession.gov.au/cybergap)\n",
    "- ECU [peer mentor](https://www.ecu.edu.au/careers-and-employability-services/mentoring/ecu-peer-mentoring-program/mentors)\n",
    "- [Rotary Youth Leadership Award](https://www.rotary.org/en/our-programs/rotary-youth-leadership-awards) recipient\n",
    "\n",
    "## Contact\n",
    "\n",
    "You can get in contact by emailing me at hello@ryanwarnock.me"
   ]
  }
 ],
 "metadata": {
  "kernelspec": {
   "display_name": "Python 3 (ipykernel)",
   "language": "python",
   "name": "python3"
  },
  "language_info": {
   "codemirror_mode": {
    "name": "ipython",
    "version": 3
   },
   "file_extension": ".py",
   "mimetype": "text/x-python",
   "name": "python",
   "nbconvert_exporter": "python",
   "pygments_lexer": "ipython3",
   "version": "3.9.10"
  }
 },
 "nbformat": 4,
 "nbformat_minor": 5
}